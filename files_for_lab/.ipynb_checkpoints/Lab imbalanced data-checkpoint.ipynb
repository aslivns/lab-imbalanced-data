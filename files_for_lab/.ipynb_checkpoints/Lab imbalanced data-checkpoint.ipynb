{
 "cells": [
  {
   "cell_type": "code",
   "execution_count": 1,
   "id": "bdf05984",
   "metadata": {},
   "outputs": [],
   "source": [
    "import pandas as pd\n",
    "import numpy as np"
   ]
  },
  {
   "cell_type": "markdown",
   "id": "7a1990b5",
   "metadata": {},
   "source": [
    "#### 1. Load the dataset and explore the variables."
   ]
  },
  {
   "cell_type": "code",
   "execution_count": 4,
   "id": "935c17fc",
   "metadata": {},
   "outputs": [
    {
     "data": {
      "text/plain": [
       "(7043, 21)"
      ]
     },
     "execution_count": 4,
     "metadata": {},
     "output_type": "execute_result"
    }
   ],
   "source": [
    "data = pd.read_csv('customer_churn.csv')\n",
    "data.head()\n",
    "data.shape"
   ]
  },
  {
   "cell_type": "code",
   "execution_count": 5,
   "id": "d4444398",
   "metadata": {},
   "outputs": [
    {
     "data": {
      "text/plain": [
       "customerID           object\n",
       "gender               object\n",
       "SeniorCitizen         int64\n",
       "Partner              object\n",
       "Dependents           object\n",
       "tenure                int64\n",
       "PhoneService         object\n",
       "MultipleLines        object\n",
       "InternetService      object\n",
       "OnlineSecurity       object\n",
       "OnlineBackup         object\n",
       "DeviceProtection     object\n",
       "TechSupport          object\n",
       "StreamingTV          object\n",
       "StreamingMovies      object\n",
       "Contract             object\n",
       "PaperlessBilling     object\n",
       "PaymentMethod        object\n",
       "MonthlyCharges      float64\n",
       "TotalCharges         object\n",
       "Churn                object\n",
       "dtype: object"
      ]
     },
     "metadata": {},
     "output_type": "display_data"
    }
   ],
   "source": [
    "pd.set_option('display.max_columns', None)\n",
    "display(data.dtypes)"
   ]
  },
  {
   "cell_type": "code",
   "execution_count": 8,
   "id": "6cf34f72",
   "metadata": {},
   "outputs": [
    {
     "data": {
      "text/plain": [
       "0"
      ]
     },
     "execution_count": 8,
     "metadata": {},
     "output_type": "execute_result"
    }
   ],
   "source": [
    "sum(data.duplicated()) \n",
    "####  DONT DO THIS data = data.drop_duplicates() "
   ]
  },
  {
   "cell_type": "code",
   "execution_count": 9,
   "id": "3a5713b3",
   "metadata": {},
   "outputs": [
    {
     "data": {
      "text/plain": [
       "customerID          0\n",
       "gender              0\n",
       "SeniorCitizen       0\n",
       "Partner             0\n",
       "Dependents          0\n",
       "tenure              0\n",
       "PhoneService        0\n",
       "MultipleLines       0\n",
       "InternetService     0\n",
       "OnlineSecurity      0\n",
       "OnlineBackup        0\n",
       "DeviceProtection    0\n",
       "TechSupport         0\n",
       "StreamingTV         0\n",
       "StreamingMovies     0\n",
       "Contract            0\n",
       "PaperlessBilling    0\n",
       "PaymentMethod       0\n",
       "MonthlyCharges      0\n",
       "TotalCharges        0\n",
       "Churn               0\n",
       "dtype: int64"
      ]
     },
     "execution_count": 9,
     "metadata": {},
     "output_type": "execute_result"
    }
   ],
   "source": [
    "data.isna().sum()"
   ]
  },
  {
   "cell_type": "markdown",
   "id": "2606b504",
   "metadata": {},
   "source": [
    "#### 2. We will try to predict variable Churn using a logistic regression on variables tenure, SeniorCitizen,MonthlyCharges."
   ]
  },
  {
   "cell_type": "code",
   "execution_count": 10,
   "id": "f96906c6",
   "metadata": {},
   "outputs": [
    {
     "data": {
      "text/plain": [
       "(7043, 4)"
      ]
     },
     "execution_count": 10,
     "metadata": {},
     "output_type": "execute_result"
    }
   ],
   "source": [
    "data = data[['Churn', 'tenure', 'SeniorCitizen','MonthlyCharges']]\n",
    "data = data.rename(columns={'Churn':'churn', 'SeniorCitizen':'senior_citizen', 'MonthlyCharges':'monthly_charges'})\n",
    "data.head()\n",
    "data.shape"
   ]
  },
  {
   "cell_type": "code",
   "execution_count": 11,
   "id": "85d89e55",
   "metadata": {},
   "outputs": [
    {
     "data": {
      "text/plain": [
       "array(['No', 'Yes'], dtype=object)"
      ]
     },
     "execution_count": 11,
     "metadata": {},
     "output_type": "execute_result"
    }
   ],
   "source": [
    "data['churn'].unique()"
   ]
  },
  {
   "cell_type": "code",
   "execution_count": 12,
   "id": "f7c314c2",
   "metadata": {},
   "outputs": [
    {
     "data": {
      "text/plain": [
       "array([ 1, 34,  2, 45,  8, 22, 10, 28, 62, 13, 16, 58, 49, 25, 69, 52, 71,\n",
       "       21, 12, 30, 47, 72, 17, 27,  5, 46, 11, 70, 63, 43, 15, 60, 18, 66,\n",
       "        9,  3, 31, 50, 64, 56,  7, 42, 35, 48, 29, 65, 38, 68, 32, 55, 37,\n",
       "       36, 41,  6,  4, 33, 67, 23, 57, 61, 14, 20, 53, 40, 59, 24, 44, 19,\n",
       "       54, 51, 26,  0, 39], dtype=int64)"
      ]
     },
     "execution_count": 12,
     "metadata": {},
     "output_type": "execute_result"
    }
   ],
   "source": [
    "data['tenure'].unique()  #data['tenure'] = data['tenure'].astype('object')"
   ]
  },
  {
   "cell_type": "code",
   "execution_count": 14,
   "id": "0515786c",
   "metadata": {},
   "outputs": [],
   "source": [
    "data['senior_citizen'].value_counts()   # this is an integer\n",
    "# data['senior_citizen'].unique\n",
    "data['senior_citizen'] = data['senior_citizen'].astype('object')"
   ]
  },
  {
   "cell_type": "code",
   "execution_count": 15,
   "id": "3b24659d",
   "metadata": {},
   "outputs": [],
   "source": [
    "data.churn.replace({\"Yes\":1, \"No\":0}, inplace = True)"
   ]
  },
  {
   "cell_type": "code",
   "execution_count": null,
   "id": "2ea3fe19",
   "metadata": {},
   "outputs": [],
   "source": [
    "import matplotlib.pyplot as plt\n",
    "import seaborn as sns\n",
    "correlations_matrix = data.corr()\n",
    "sns.heatmap(correlations_matrix, annot=True)\n",
    "plt.show()"
   ]
  },
  {
   "cell_type": "code",
   "execution_count": 16,
   "id": "34fb0739",
   "metadata": {},
   "outputs": [
    {
     "data": {
      "text/plain": [
       "churn                int64\n",
       "tenure               int64\n",
       "senior_citizen      object\n",
       "monthly_charges    float64\n",
       "dtype: object"
      ]
     },
     "metadata": {},
     "output_type": "display_data"
    }
   ],
   "source": [
    "display(data.dtypes)"
   ]
  },
  {
   "cell_type": "code",
   "execution_count": 19,
   "id": "7f7a0d4a",
   "metadata": {},
   "outputs": [
    {
     "data": {
      "image/png": "[encoded data removed]",
      "text/plain": [
       "<Figure size 360x360 with 1 Axes>"
      ]
     },
     "metadata": {
      "needs_background": "light"
     },
     "output_type": "display_data"
    }
   ],
   "source": [
    "import matplotlib.pyplot as plt\n",
    "import seaborn as sns\n",
    "sns.displot(data['tenure'])   # shows plot with 2 list\n",
    "plt.show()"
   ]
  },
  {
   "cell_type": "code",
   "execution_count": 20,
   "id": "dae45590",
   "metadata": {},
   "outputs": [
    {
     "data": {
      "image/png": "[encoded data removed]",
      "text/plain": [
       "<Figure size 360x360 with 1 Axes>"
      ]
     },
     "metadata": {
      "needs_background": "light"
     },
     "output_type": "display_data"
    }
   ],
   "source": [
    "import seaborn as sns\n",
    "sns.displot(data['monthly_charges'])   # shows plot with 2 list\n",
    "plt.show()"
   ]
  },
  {
   "cell_type": "markdown",
   "id": "cf2bd9b5",
   "metadata": {},
   "source": [
    "#### 3. Extract the target variable\n",
    "#### X-y split"
   ]
  },
  {
   "cell_type": "code",
   "execution_count": 21,
   "id": "05c69a99",
   "metadata": {},
   "outputs": [],
   "source": [
    "# X/y split\n",
    "X = data.drop('churn',axis = 1)\n",
    "y = data['churn']"
   ]
  },
  {
   "cell_type": "markdown",
   "id": "bd486caf",
   "metadata": {},
   "source": [
    "#### 4. Extract the independent variables and scale them."
   ]
  },
  {
   "cell_type": "markdown",
   "id": "ccccb063",
   "metadata": {},
   "source": [
    "#####  Train-test split. Standard Scaler-Oner Hot Encoder"
   ]
  },
  {
   "cell_type": "code",
   "execution_count": 22,
   "id": "9589cb06",
   "metadata": {},
   "outputs": [],
   "source": [
    "# here we start scaling, so need to do train-test-split before\n",
    "from sklearn.model_selection import train_test_split\n",
    "X_train, X_test, y_train, y_test = train_test_split(X, y, random_state=0) # default fraction is .2"
   ]
  },
  {
   "cell_type": "code",
   "execution_count": 23,
   "id": "6c98dfdf",
   "metadata": {},
   "outputs": [],
   "source": [
    "# split numericals and categoricals\n",
    "\n",
    "X_train_num = X_train.select_dtypes(include = np.number)\n",
    "X_test_num  = X_test.select_dtypes(include = np.number)\n",
    "X_train_cat = X_train.select_dtypes(include = object)\n",
    "X_test_cat  = X_test.select_dtypes(include = object)"
   ]
  },
  {
   "cell_type": "code",
   "execution_count": 24,
   "id": "bcc74cec",
   "metadata": {},
   "outputs": [],
   "source": [
    "from sklearn.preprocessing import StandardScaler\n",
    "# Scaling data\n",
    "transformer = StandardScaler().fit(X_train_num) # keep transformer\n",
    "X_train_normalized = transformer.transform(X_train_num)\n",
    "X_train_norm = pd.DataFrame(X_train_normalized)"
   ]
  },
  {
   "cell_type": "code",
   "execution_count": 25,
   "id": "ae46ec2e",
   "metadata": {},
   "outputs": [],
   "source": [
    "from sklearn.preprocessing import OneHotEncoder\n",
    "#encoding categricals\n",
    "encoder = OneHotEncoder(drop='first').fit(X_train_cat)\n",
    "cols = encoder.get_feature_names_out(input_features=X_train_cat.columns)\n",
    "X_train_cat_encoded = pd.DataFrame(encoder.transform(X_train_cat).toarray(),columns=cols)"
   ]
  },
  {
   "cell_type": "code",
   "execution_count": 26,
   "id": "ea145b05",
   "metadata": {},
   "outputs": [],
   "source": [
    "X_train_transformed = np.concatenate([X_train_norm, X_train_cat_encoded], axis=1)"
   ]
  },
  {
   "cell_type": "code",
   "execution_count": 28,
   "id": "986b5908",
   "metadata": {},
   "outputs": [],
   "source": [
    "# apply scaler to X_test_num\n",
    "X_test_normalized = transformer.transform(X_test_num)\n",
    "X_test_norm = pd.DataFrame(X_test_normalized)"
   ]
  },
  {
   "cell_type": "code",
   "execution_count": 29,
   "id": "15287ee0",
   "metadata": {},
   "outputs": [],
   "source": [
    "# apply encoder to X_test_cat\n",
    "encoded_test_cat = encoder.transform(X_test_cat).toarray()\n",
    "X_test_onehot = pd.DataFrame(encoded_test_cat, columns=cols)"
   ]
  },
  {
   "cell_type": "code",
   "execution_count": 30,
   "id": "38fa0abb",
   "metadata": {},
   "outputs": [],
   "source": [
    "# combine scaled and onehot_encoded portions of X_test\n",
    "X_test_transformed = np.concatenate([X_test_norm, X_test_onehot], axis = 1)"
   ]
  },
  {
   "cell_type": "code",
   "execution_count": 31,
   "id": "4c554236",
   "metadata": {},
   "outputs": [],
   "source": [
    "y_train = y_train.reset_index(drop=True) \n",
    "# needed because the transformation also reset the index for X_train_scaled\n",
    "# so we need this for y_test as well...\n",
    "y_test = y_test.reset_index(drop=True) \n"
   ]
  },
  {
   "cell_type": "markdown",
   "id": "339e8b61",
   "metadata": {},
   "source": [
    "#### 6. Build the logistic regression model."
   ]
  },
  {
   "cell_type": "code",
   "execution_count": 32,
   "id": "d92df195",
   "metadata": {},
   "outputs": [
    {
     "data": {
      "text/html": [
       "<style>#sk-container-id-1 {color: black;background-color: white;}#sk-container-id-1 pre{padding: 0;}#sk-container-id-1 div.sk-toggleable {background-color: white;}#sk-container-id-1 label.sk-toggleable__label {cursor: pointer;display: block;width: 100%;margin-bottom: 0;padding: 0.3em;box-sizing: border-box;text-align: center;}#sk-container-id-1 label.sk-toggleable__label-arrow:before {content: \"▸\";float: left;margin-right: 0.25em;color: #696969;}#sk-container-id-1 label.sk-toggleable__label-arrow:hover:before {color: black;}#sk-container-id-1 div.sk-estimator:hover label.sk-toggleable__label-arrow:before {color: black;}#sk-container-id-1 div.sk-toggleable__content {max-height: 0;max-width: 0;overflow: hidden;text-align: left;background-color: #f0f8ff;}#sk-container-id-1 div.sk-toggleable__content pre {margin: 0.2em;color: black;border-radius: 0.25em;background-color: #f0f8ff;}#sk-container-id-1 input.sk-toggleable__control:checked~div.sk-toggleable__content {max-height: 200px;max-width: 100%;overflow: auto;}#sk-container-id-1 input.sk-toggleable__control:checked~label.sk-toggleable__label-arrow:before {content: \"▾\";}#sk-container-id-1 div.sk-estimator input.sk-toggleable__control:checked~label.sk-toggleable__label {background-color: #d4ebff;}#sk-container-id-1 div.sk-label input.sk-toggleable__control:checked~label.sk-toggleable__label {background-color: #d4ebff;}#sk-container-id-1 input.sk-hidden--visually {border: 0;clip: rect(1px 1px 1px 1px);clip: rect(1px, 1px, 1px, 1px);height: 1px;margin: -1px;overflow: hidden;padding: 0;position: absolute;width: 1px;}#sk-container-id-1 div.sk-estimator {font-family: monospace;background-color: #f0f8ff;border: 1px dotted black;border-radius: 0.25em;box-sizing: border-box;margin-bottom: 0.5em;}#sk-container-id-1 div.sk-estimator:hover {background-color: #d4ebff;}#sk-container-id-1 div.sk-parallel-item::after {content: \"\";width: 100%;border-bottom: 1px solid gray;flex-grow: 1;}#sk-container-id-1 div.sk-label:hover label.sk-toggleable__label {background-color: #d4ebff;}#sk-container-id-1 div.sk-serial::before {content: \"\";position: absolute;border-left: 1px solid gray;box-sizing: border-box;top: 0;bottom: 0;left: 50%;z-index: 0;}#sk-container-id-1 div.sk-serial {display: flex;flex-direction: column;align-items: center;background-color: white;padding-right: 0.2em;padding-left: 0.2em;position: relative;}#sk-container-id-1 div.sk-item {position: relative;z-index: 1;}#sk-container-id-1 div.sk-parallel {display: flex;align-items: stretch;justify-content: center;background-color: white;position: relative;}#sk-container-id-1 div.sk-item::before, #sk-container-id-1 div.sk-parallel-item::before {content: \"\";position: absolute;border-left: 1px solid gray;box-sizing: border-box;top: 0;bottom: 0;left: 50%;z-index: -1;}#sk-container-id-1 div.sk-parallel-item {display: flex;flex-direction: column;z-index: 1;position: relative;background-color: white;}#sk-container-id-1 div.sk-parallel-item:first-child::after {align-self: flex-end;width: 50%;}#sk-container-id-1 div.sk-parallel-item:last-child::after {align-self: flex-start;width: 50%;}#sk-container-id-1 div.sk-parallel-item:only-child::after {width: 0;}#sk-container-id-1 div.sk-dashed-wrapped {border: 1px dashed gray;margin: 0 0.4em 0.5em 0.4em;box-sizing: border-box;padding-bottom: 0.4em;background-color: white;}#sk-container-id-1 div.sk-label label {font-family: monospace;font-weight: bold;display: inline-block;line-height: 1.2em;}#sk-container-id-1 div.sk-label-container {text-align: center;}#sk-container-id-1 div.sk-container {/* jupyter's `normalize.less` sets `[hidden] { display: none; }` but bootstrap.min.css set `[hidden] { display: none !important; }` so we also need the `!important` here to be able to override the default hidden behavior on the sphinx rendered scikit-learn.org. See: https://github.com/scikit-learn/scikit-learn/issues/21755 */display: inline-block !important;position: relative;}#sk-container-id-1 div.sk-text-repr-fallback {display: none;}</style><div id=\"sk-container-id-1\" class=\"sk-top-container\"><div class=\"sk-text-repr-fallback\"><pre>LogisticRegression(random_state=0)</pre><b>In a Jupyter environment, please rerun this cell to show the HTML representation or trust the notebook. <br />On GitHub, the HTML representation is unable to render, please try loading this page with nbviewer.org.</b></div><div class=\"sk-container\" hidden><div class=\"sk-item\"><div class=\"sk-estimator sk-toggleable\"><input class=\"sk-toggleable__control sk-hidden--visually\" id=\"sk-estimator-id-1\" type=\"checkbox\" checked><label for=\"sk-estimator-id-1\" class=\"sk-toggleable__label sk-toggleable__label-arrow\">LogisticRegression</label><div class=\"sk-toggleable__content\"><pre>LogisticRegression(random_state=0)</pre></div></div></div></div></div>"
      ],
      "text/plain": [
       "LogisticRegression(random_state=0)"
      ]
     },
     "execution_count": 32,
     "metadata": {},
     "output_type": "execute_result"
    }
   ],
   "source": [
    "from sklearn.linear_model import LogisticRegression\n",
    "\n",
    "LogReg = LogisticRegression(random_state=0, solver='lbfgs')\n",
    "LogReg.fit(X_train_transformed, y_train)"
   ]
  },
  {
   "cell_type": "code",
   "execution_count": 34,
   "id": "2a2f98d3",
   "metadata": {},
   "outputs": [
    {
     "data": {
      "text/plain": [
       "0.7808063600227144"
      ]
     },
     "execution_count": 34,
     "metadata": {},
     "output_type": "execute_result"
    }
   ],
   "source": [
    "# Now we can make predictions on the test set:\n",
    "predictions = LogReg.predict(X_test_transformed)\n",
    "LogReg.score(X_test_transformed, y_test)"
   ]
  },
  {
   "cell_type": "code",
   "execution_count": 35,
   "id": "eef95df4",
   "metadata": {},
   "outputs": [
    {
     "name": "stdout",
     "output_type": "stream",
     "text": [
      "0    1298\n",
      "1     463\n",
      "Name: churn, dtype: int64\n"
     ]
    }
   ],
   "source": [
    "print(y_test.value_counts())   # imbalanced data"
   ]
  },
  {
   "cell_type": "markdown",
   "id": "8511ff44",
   "metadata": {},
   "source": [
    "#### 6. evaluate the model"
   ]
  },
  {
   "cell_type": "code",
   "execution_count": 37,
   "id": "b5ddd536",
   "metadata": {},
   "outputs": [
    {
     "name": "stdout",
     "output_type": "stream",
     "text": [
      "precision:  0.6115942028985507\n",
      "recall:  0.4557235421166307\n",
      "f1:  0.5222772277227723\n"
     ]
    }
   ],
   "source": [
    "#accuracy is not bad, we will look closer\n",
    "from sklearn.metrics import precision_score\n",
    "from sklearn.metrics import recall_score\n",
    "from sklearn.metrics import f1_score\n",
    "\n",
    "pred = LogReg.predict(X_test_transformed)\n",
    "\n",
    "print(\"precision: \",precision_score(y_test,pred))\n",
    "print(\"recall: \",recall_score(y_test,pred))\n",
    "print(\"f1: \",f1_score(y_test,pred))\n"
   ]
  },
  {
   "cell_type": "code",
   "execution_count": 39,
   "id": "894bdb8a",
   "metadata": {},
   "outputs": [
    {
     "data": {
      "text/plain": [
       "array([[1164,  134],\n",
       "       [ 252,  211]], dtype=int64)"
      ]
     },
     "execution_count": 39,
     "metadata": {},
     "output_type": "execute_result"
    }
   ],
   "source": [
    "# we predicted true negative mostly,\n",
    "#big number of false negative, false positive\n",
    "#the number we want, true positive is only 211 \n",
    "from sklearn.metrics import confusion_matrix\n",
    "confusion_matrix(y_test,pred)"
   ]
  },
  {
   "cell_type": "markdown",
   "id": "d73f0fda",
   "metadata": {},
   "source": [
    "#### 7. Even a simple model will give us more than 70% accuracy. Why?"
   ]
  },
  {
   "cell_type": "code",
   "execution_count": 40,
   "id": "5f802c55",
   "metadata": {},
   "outputs": [],
   "source": [
    "### Because our data im balanced.\n",
    "### when we look at thge r2 vscore only, we see %78, soundsw like a good model\n",
    "### but when we investigate further, f1 score is 0.52\n",
    "### this means this is a bad model"
   ]
  },
  {
   "cell_type": "markdown",
   "id": "8a21447b",
   "metadata": {},
   "source": [
    "#### 8. Synthetic Minority Oversampling TEchnique (SMOTE) is an over sampling technique based on nearest neighbors that adds new points between existing points. Apply imblearn.over_sampling.SMOTE to the dataset. Build and evaluate the logistic regression model. Is it there any improvement?"
   ]
  },
  {
   "cell_type": "code",
   "execution_count": 41,
   "id": "8608f3cb",
   "metadata": {},
   "outputs": [],
   "source": [
    "from imblearn.over_sampling import SMOTE"
   ]
  },
  {
   "cell_type": "code",
   "execution_count": 42,
   "id": "69e98ccf",
   "metadata": {},
   "outputs": [],
   "source": [
    "sm = SMOTE(random_state=100, k_neighbors=3) # looks at 3 closest neighbours\n",
    "X_train_SMOTE,y_train_SMOTE = sm.fit_resample(X_train_transformed,y_train)"
   ]
  },
  {
   "cell_type": "code",
   "execution_count": 43,
   "id": "aac82cdb",
   "metadata": {},
   "outputs": [
    {
     "data": {
      "text/plain": [
       "(7752, 3)"
      ]
     },
     "execution_count": 43,
     "metadata": {},
     "output_type": "execute_result"
    }
   ],
   "source": [
    "X_train_SMOTE.shape"
   ]
  },
  {
   "cell_type": "code",
   "execution_count": 45,
   "id": "4d36d19a",
   "metadata": {},
   "outputs": [
    {
     "name": "stdout",
     "output_type": "stream",
     "text": [
      "precision:  0.4776978417266187\n",
      "recall:  0.7170626349892009\n",
      "f1:  0.5734024179620035\n"
     ]
    }
   ],
   "source": [
    "LogReg.fit(X_train_SMOTE, y_train_SMOTE)\n",
    "pred = LogReg.predict(X_test_transformed)\n",
    "\n",
    "print(\"precision: \",precision_score(y_test,pred))\n",
    "print(\"recall: \",recall_score(y_test,pred))\n",
    "print(\"f1: \",f1_score(y_test,pred))"
   ]
  },
  {
   "cell_type": "code",
   "execution_count": 46,
   "id": "914fe611",
   "metadata": {},
   "outputs": [
    {
     "data": {
      "text/plain": [
       "array([[935, 363],\n",
       "       [131, 332]], dtype=int64)"
      ]
     },
     "execution_count": 46,
     "metadata": {},
     "output_type": "execute_result"
    }
   ],
   "source": [
    "# this looks better\n",
    "# still not great but better\n",
    "confusion_matrix(y_test,pred)"
   ]
  },
  {
   "cell_type": "code",
   "execution_count": null,
   "id": "3424f53d",
   "metadata": {},
   "outputs": [],
   "source": []
  }
 ],
 "metadata": {
  "kernelspec": {
   "display_name": "Python 3 (ipykernel)",
   "language": "python",
   "name": "python3"
  },
  "language_info": {
   "codemirror_mode": {
    "name": "ipython",
    "version": 3
   },
   "file_extension": ".py",
   "mimetype": "text/x-python",
   "name": "python",
   "nbconvert_exporter": "python",
   "pygments_lexer": "ipython3",
   "version": "3.9.12"
  }
 },
 "nbformat": 4,
 "nbformat_minor": 5
}
